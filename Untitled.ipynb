{
 "cells": [
  {
   "cell_type": "code",
   "execution_count": 1,
   "metadata": {},
   "outputs": [],
   "source": [
    "import IPython\n",
    "from scipy.io import wavfile\n",
    "import scipy.signal\n",
    "import numpy as np\n",
    "import matplotlib.pyplot as plt\n",
    "import librosa"
   ]
  },
  {
   "cell_type": "code",
   "execution_count": 6,
   "metadata": {},
   "outputs": [
    {
     "name": "stdout",
     "output_type": "stream",
     "text": [
      "44100\n",
      "[0 0 0 ... 2 3 5]\n"
     ]
    },
    {
     "ename": "NameError",
     "evalue": "name 'nosie_rate' is not defined",
     "output_type": "error",
     "traceback": [
      "\u001b[1;31m---------------------------------------------------------------------------\u001b[0m",
      "\u001b[1;31mNameError\u001b[0m                                 Traceback (most recent call last)",
      "\u001b[1;32m<ipython-input-6-06f8b26ec589>\u001b[0m in \u001b[0;36m<module>\u001b[1;34m\u001b[0m\n\u001b[0;32m      9\u001b[0m \u001b[0mwav_loc\u001b[0m \u001b[1;33m=\u001b[0m \u001b[1;34m\"cafe_noise.wav\"\u001b[0m\u001b[1;33m\u001b[0m\u001b[1;33m\u001b[0m\u001b[0m\n\u001b[0;32m     10\u001b[0m \u001b[0mnoise_rate\u001b[0m\u001b[1;33m,\u001b[0m \u001b[0mnoise_data\u001b[0m \u001b[1;33m=\u001b[0m \u001b[0mwavfile\u001b[0m\u001b[1;33m.\u001b[0m\u001b[0mread\u001b[0m\u001b[1;33m(\u001b[0m\u001b[0mwav_loc\u001b[0m\u001b[1;33m)\u001b[0m\u001b[1;33m\u001b[0m\u001b[1;33m\u001b[0m\u001b[0m\n\u001b[1;32m---> 11\u001b[1;33m \u001b[0mprint\u001b[0m\u001b[1;33m(\u001b[0m\u001b[0mnosie_rate\u001b[0m\u001b[1;33m)\u001b[0m\u001b[1;33m\u001b[0m\u001b[1;33m\u001b[0m\u001b[0m\n\u001b[0m\u001b[0;32m     12\u001b[0m \u001b[0mprint\u001b[0m\u001b[1;33m(\u001b[0m\u001b[0mnosie_data\u001b[0m\u001b[1;33m)\u001b[0m\u001b[1;33m\u001b[0m\u001b[1;33m\u001b[0m\u001b[0m\n\u001b[0;32m     13\u001b[0m \u001b[1;33m\u001b[0m\u001b[0m\n",
      "\u001b[1;31mNameError\u001b[0m: name 'nosie_rate' is not defined"
     ]
    }
   ],
   "source": [
    "wav_loc = \"subway1.wav\"\n",
    "src_rate, src_data = wavfile.read(wav_loc)\n",
    "\n",
    "print(src_rate)\n",
    "print(src_data)\n",
    "# src_data = np.concatenate((src_data, np.zeros(src_rate*3)))\n",
    "src_data = src_data / 32768\n",
    "\n",
    "wav_loc = \"cafe_noise.wav\"\n",
    "noise_rate, noise_data = wavfile.read(wav_loc)\n",
    "print(nosie_rate)\n",
    "print(nosie_data)\n",
    "\n",
    "# get some noise to add to the signal\n",
    "noise_to_add = noise_data[len(src_data) : len(src_data) * 2]\n",
    "# get a different part of the noise clip for calculating statistics\n",
    "noise_clip = noise_data[: len(src_data)]\n",
    "noise_clip = noise_clip / max(noise_to_add)\n",
    "noise_to_add = noise_to_add / max(noise_to_add)\n",
    "# apply noise\n",
    "snr = 1  # signal to noise ratio\n",
    "audio_clip_cafe = src_data + noise_to_add / snr\n",
    "noise_clip = noise_clip / snr"
   ]
  },
  {
   "cell_type": "code",
   "execution_count": null,
   "metadata": {},
   "outputs": [],
   "source": [
    "\n",
    "print(\"cafenoise\")\n",
    "fig, ax = plt.subplots(figsize=(20, 4))\n",
    "ax.plot(noise_clip)\n",
    "IPython.display.Audio(data=noise_clip, rate=src_rate)\n",
    "\n",
    "print(\"noise + sound\")\n",
    "fig, ax = plt.subplots(figsize=(20,4))\n",
    "ax.plot(audio_clip_cafe)\n",
    "IPython.display.Audio(data=audio_clip_cafe, rate=src_rate)\n",
    "\n",
    "output = removeNoise(\n",
    "    audio_clip=audio_clip_cafe,\n",
    "    noise_clip=noise_clip,\n",
    "    n_std_thresh=2,\n",
    "    prop_decrease=0.95,\n",
    "    visual=True,\n",
    ")\n",
    "\n",
    "print(\"sound\")\n",
    "fig, ax = plt.subplots(nrows=1, ncols=1, figsize=(20, 4))\n",
    "plt.plot(output, color=\"black\")\n",
    "ax.set_xlim((0, len(output)))\n",
    "plt.show()\n",
    "# play back a sample of the song\n",
    "IPython.display.Audio(data=output, rate=44100)"
   ]
  }
 ],
 "metadata": {
  "kernelspec": {
   "display_name": "Python 3",
   "language": "python",
   "name": "python3"
  },
  "language_info": {
   "codemirror_mode": {
    "name": "ipython",
    "version": 3
   },
   "file_extension": ".py",
   "mimetype": "text/x-python",
   "name": "python",
   "nbconvert_exporter": "python",
   "pygments_lexer": "ipython3",
   "version": "3.7.4"
  }
 },
 "nbformat": 4,
 "nbformat_minor": 2
}
